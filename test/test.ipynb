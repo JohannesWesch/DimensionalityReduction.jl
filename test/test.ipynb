{
 "cells": [
  {
   "cell_type": "code",
   "execution_count": 6,
   "metadata": {},
   "outputs": [
    {
     "ename": "KeyError",
     "evalue": "KeyError: key \"11\" not found",
     "output_type": "error",
     "traceback": [
      "KeyError: key \"11\" not found\n",
      "\n",
      "Stacktrace:\n",
      " [1] getindex(h::Dict{String, VNNLib.NNLoader.onnx.TensorProto}, key::String)\n",
      "   @ Base .\\dict.jl:484\n",
      " [2] load_network(filename::String)\n",
      "   @ VNNLib.NNLoader C:\\Users\\johan\\.julia\\packages\\VNNLib\\9HoyF\\src\\NNLoader\\Main.jl:172\n",
      " [3] top-level scope\n",
      "   @ c:\\Users\\johan\\DimensionalityReduction.jl\\test\\test.ipynb:3"
     ]
    }
   ],
   "source": [
    "using VNNLib\n",
    "\n",
    "network = load_network(\"../benchmarks/mnistfc/mnist-net_256x4.onnx\")"
   ]
  },
  {
   "cell_type": "code",
   "execution_count": 3,
   "metadata": {},
   "outputs": [
    {
     "name": "stderr",
     "output_type": "stream",
     "text": [
      "\u001b[91m\u001b[1mERROR: \u001b[22m\u001b[39mLoadError: "
     ]
    },
    {
     "name": "stderr",
     "output_type": "stream",
     "text": [
      "SystemError: opening file \"src/NetworkUpdate.py\": No such file or directory\n",
      "Stacktrace:\n",
      "  [1] \u001b[0m\u001b[1msystemerror\u001b[22m\u001b[0m\u001b[1m(\u001b[22m\u001b[90mp\u001b[39m::\u001b[0mString, \u001b[90merrno\u001b[39m::\u001b[0mInt32; \u001b[90mextrainfo\u001b[39m::\u001b[0mNothing\u001b[0m\u001b[1m)\u001b[22m\n",
      "\u001b[90m    @\u001b[39m \u001b[90mBase\u001b[39m \u001b[90m.\\\u001b[39m\u001b[90m\u001b[4merror.jl:176\u001b[24m\u001b[39m\n",
      "  [2] \u001b[0m\u001b[1m#systemerror#82\u001b[22m\n",
      "\u001b[90m    @\u001b[39m \u001b[90m.\\\u001b[39m\u001b[90m\u001b[4merror.jl:175\u001b[24m\u001b[39m\u001b[90m [inlined]\u001b[39m\n",
      "  [3] \u001b[0m\u001b[1msystemerror\u001b[22m\n",
      "\u001b[90m    @\u001b[39m \u001b[90m.\\\u001b[39m\u001b[90m\u001b[4merror.jl:175\u001b[24m\u001b[39m\u001b[90m [inlined]\u001b[39m\n",
      "  [4] \u001b[0m\u001b[1mopen\u001b[22m\u001b[0m\u001b[1m(\u001b[22m\u001b[90mfname\u001b[39m::\u001b[0mString; \u001b[90mlock\u001b[39m::\u001b[0mBool, \u001b[90mread\u001b[39m::\u001b[0mNothing, \u001b[90mwrite\u001b[39m::\u001b[0mNothing, \u001b[90mcreate\u001b[39m::\u001b[0mNothing, \u001b[90mtruncate\u001b[39m::\u001b[0mNothing, \u001b[90mappend\u001b[39m::\u001b[0mNothing\u001b[0m\u001b[1m)\u001b[22m\n",
      "\u001b[90m    @\u001b[39m \u001b[90mBase\u001b[39m \u001b[90m.\\\u001b[39m\u001b[90m\u001b[4miostream.jl:293\u001b[24m\u001b[39m\n",
      "  [5] \u001b[0m\u001b[1mopen\u001b[22m\n",
      "\u001b[90m    @\u001b[39m \u001b[90m.\\\u001b[39m\u001b[90m\u001b[4miostream.jl:275\u001b[24m\u001b[39m\u001b[90m [inlined]\u001b[39m\n",
      "  [6] \u001b[0m\u001b[1mopen\u001b[22m"
     ]
    },
    {
     "name": "stderr",
     "output_type": "stream",
     "text": [
      "\u001b[0m\u001b[1m(\u001b[22m\u001b[90mf\u001b[39m::\u001b[0mBase.var\"#418#419\"\u001b[90m{String}\u001b[39m, \u001b[90margs\u001b[39m::\u001b[0mString; \u001b[90mkwargs\u001b[39m::\u001b[0mBase.Pairs\u001b[90m{Symbol, Union{}, Tuple{}, NamedTuple{(), Tuple{}}}\u001b[39m\u001b[0m\u001b[1m)\u001b[22m\n",
      "\u001b[90m    @\u001b[39m \u001b[90mBase\u001b[39m \u001b[90m.\\\u001b[39m\u001b[90m\u001b[4mio.jl:393\u001b[24m\u001b[39m\n",
      "  [7] \u001b[0m\u001b[1mopen\u001b[22m\n",
      "\u001b[90m    @\u001b[39m \u001b[90m.\\\u001b[39m\u001b[90m\u001b[4mio.jl:392\u001b[24m\u001b[39m\u001b[90m [inlined]\u001b[39m\n",
      "  [8] \u001b[0m\u001b[1mread\u001b[22m\u001b[0m\u001b[1m(\u001b[22m\u001b[90mfilename\u001b[39m::\u001b[0mString, \u001b[90m#unused#\u001b[39m::\u001b[0mType\u001b[90m{String}\u001b[39m\u001b[0m\u001b[1m)\u001b[22m\n",
      "\u001b[90m    @\u001b[39m \u001b[90mBase\u001b[39m \u001b[90m.\\\u001b[39m\u001b[90m\u001b[4mio.jl:473\u001b[24m\u001b[39m\n",
      "  [9] top-level scope\n",
      "\u001b[90m    @\u001b[39m \u001b[90mC:\\Users\\johan\\.julia\\packages\\PyCall\\twYvK\\src\\\u001b[39m\u001b[90m\u001b[4mpyeval.jl:252\u001b[24m\u001b[39m\n",
      " [10] \u001b[0m\u001b[1minclude\u001b[22m\u001b[0m\u001b[1m(\u001b[22m\u001b[90mmod\u001b[39m::\u001b[0mModule, \u001b[90m_path\u001b[39m::\u001b[0mString\u001b[0m\u001b[1m)\u001b[22m\n",
      "\u001b[90m    @\u001b[39m \u001b[90mBase\u001b[39m \u001b[90m.\\\u001b[39m\u001b[90m\u001b[4mBase.jl:457\u001b[24m\u001b[39m\n",
      " [11] \u001b[0m\u001b[1minclude\u001b[22m\u001b[0m\u001b[1m(\u001b[22m\u001b[90mx\u001b[39m::\u001b[0mString\u001b[0m\u001b[1m)\u001b[22m\n",
      "\u001b[90m    @\u001b[39m \u001b[35mDimensionalityReduction\u001b[39m \u001b[90mc:\\Users\\johan\\DimensionalityReduction.jl\\src\\\u001b[39m\u001b[90m\u001b[4mDimensionalityReduction.jl:1\u001b[24m\u001b[39m\n",
      " [12] top-level scope\n",
      "\u001b[90m    @\u001b[39m \u001b[90mc:\\Users\\johan\\DimensionalityReduction.jl\\src\\\u001b[39m\u001b[90m\u001b[4mDimensionalityReduction.jl:5\u001b[24m\u001b[39m\n",
      " [13] \u001b[0m\u001b[1minclude\u001b[22m\n",
      "\u001b[90m    @\u001b[39m \u001b[90m.\\\u001b[39m\u001b[90m\u001b[4mBase.jl:457\u001b[24m\u001b[39m\u001b[90m [inlined]\u001b[39m\n",
      " [14] \u001b[0m\u001b[1minclude_package_for_output\u001b[22m\u001b[0m\u001b[1m(\u001b[22m\u001b[90mpkg\u001b[39m::\u001b[0mBase.PkgId, \u001b[90minput\u001b[39m::\u001b[0mString, \u001b[90mdepot_path\u001b[39m::\u001b[0mVector\u001b[90m{String}\u001b[39m, \u001b[90mdl_load_path\u001b[39m::\u001b[0mVector\u001b[90m{String}\u001b[39m, \u001b[90mload_path\u001b[39m::\u001b[0mVector\u001b[90m{String}\u001b[39m, \u001b[90mconcrete_deps\u001b[39m::\u001b[0mVector\u001b[90m{Pair{Base.PkgId, UInt128}}\u001b[39m, \u001b[90msource\u001b[39m::\u001b[0mString\u001b[0m\u001b[1m)\u001b[22m\n",
      "\u001b[90m    @\u001b[39m \u001b[90mBase\u001b[39m \u001b[90m.\\\u001b[39m\u001b[90m\u001b[4mloading.jl:2045\u001b[24m\u001b[39m\n",
      " [15] top-level scope\n",
      "\u001b[90m    @\u001b[39m \u001b[90m\u001b[4mstdin:3\u001b[24m\u001b[39m\n",
      "in expression starting at c:\\Users\\johan\\DimensionalityReduction.jl\\src\\Onnx.jl:3\n",
      "in expression starting at c:\\Users\\johan\\DimensionalityReduction.jl\\src\\DimensionalityReduction.jl:1\n",
      "in expression starting at stdin:3\n"
     ]
    },
    {
     "ename": "ErrorException",
     "evalue": "Failed to precompile DimensionalityReduction [cba56e5c-055b-4747-b109-fd77ca0a0b08] to \"C:\\\\Users\\\\johan\\\\.julia\\\\compiled\\\\v1.9\\\\DimensionalityReduction\\\\jl_23B7.tmp\".",
     "output_type": "error",
     "traceback": [
      "Failed to precompile DimensionalityReduction [cba56e5c-055b-4747-b109-fd77ca0a0b08] to \"C:\\\\Users\\\\johan\\\\.julia\\\\compiled\\\\v1.9\\\\DimensionalityReduction\\\\jl_23B7.tmp\".\n",
      "\n",
      "Stacktrace:\n",
      "  [1] error(s::String)\n",
      "    @ Base .\\error.jl:35\n",
      "  [2] compilecache(pkg::Base.PkgId, path::String, internal_stderr::IO, internal_stdout::IO, keep_loaded_modules::Bool)\n",
      "    @ Base .\\loading.jl:2296\n",
      "  [3] compilecache\n",
      "    @ .\\loading.jl:2163 [inlined]\n",
      "  [4] _require(pkg::Base.PkgId, env::String)\n",
      "    @ Base .\\loading.jl:1805\n",
      "  [5] _require_prelocked(uuidkey::Base.PkgId, env::String)\n",
      "    @ Base .\\loading.jl:1660\n",
      "  [6] macro expansion\n",
      "    @ .\\loading.jl:1648 [inlined]\n",
      "  [7] macro expansion\n",
      "    @ .\\lock.jl:267 [inlined]\n",
      "  [8] require(into::Module, mod::Symbol)\n",
      "    @ Base .\\loading.jl:1611\n",
      "  [9] eval\n",
      "    @ .\\boot.jl:370 [inlined]\n",
      " [10] include_string(mapexpr::typeof(REPL.softscope), mod::Module, code::String, filename::String)\n",
      "    @ Base .\\loading.jl:1899\n",
      " [11] #invokelatest#2\n",
      "    @ .\\essentials.jl:816 [inlined]\n",
      " [12] invokelatest\n",
      "    @ .\\essentials.jl:813 [inlined]\n",
      " [13] (::VSCodeServer.var\"#198#199\"{VSCodeServer.NotebookRunCellArguments, String})()\n",
      "    @ VSCodeServer c:\\Users\\johan\\.vscode\\extensions\\julialang.language-julia-1.47.2\\scripts\\packages\\VSCodeServer\\src\\serve_notebook.jl:19\n",
      " [14] withpath(f::VSCodeServer.var\"#198#199\"{VSCodeServer.NotebookRunCellArguments, String}, path::String)\n",
      "    @ VSCodeServer c:\\Users\\johan\\.vscode\\extensions\\julialang.language-julia-1.47.2\\scripts\\packages\\VSCodeServer\\src\\repl.jl:249\n",
      " [15] notebook_runcell_request(conn::VSCodeServer.JSONRPC.JSONRPCEndpoint{Base.PipeEndpoint, Base.PipeEndpoint}, params::VSCodeServer.NotebookRunCellArguments)\n",
      "    @ VSCodeServer c:\\Users\\johan\\.vscode\\extensions\\julialang.language-julia-1.47.2\\scripts\\packages\\VSCodeServer\\src\\serve_notebook.jl:13\n",
      " [16] dispatch_msg(x::VSCodeServer.JSONRPC.JSONRPCEndpoint{Base.PipeEndpoint, Base.PipeEndpoint}, dispatcher::VSCodeServer.JSONRPC.MsgDispatcher, msg::Dict{String, Any})\n",
      "    @ VSCodeServer.JSONRPC c:\\Users\\johan\\.vscode\\extensions\\julialang.language-julia-1.47.2\\scripts\\packages\\JSONRPC\\src\\typed.jl:67\n",
      " [17] serve_notebook(pipename::String, outputchannel_logger::Base.CoreLogging.SimpleLogger; crashreporting_pipename::String)\n",
      "    @ VSCodeServer c:\\Users\\johan\\.vscode\\extensions\\julialang.language-julia-1.47.2\\scripts\\packages\\VSCodeServer\\src\\serve_notebook.jl:139\n",
      " [18] top-level scope\n",
      "    @ c:\\Users\\johan\\.vscode\\extensions\\julialang.language-julia-1.47.2\\scripts\\notebook\\notebook.jl:32"
     ]
    }
   ],
   "source": [
    "using DimensionalityReduction\n",
    "\n",
    "reduce(\"benchmarks/mnistfc/mnist-net_256x4.onnx\", \"benchmarks/mnistfc_reduced/mnist-net_256x4.onnx\")\n"
   ]
  },
  {
   "cell_type": "code",
   "execution_count": null,
   "metadata": {},
   "outputs": [],
   "source": [
    "using VNNLib\n",
    "\n",
    "f, n_input, n_output = get_ast(\"../benchmarks/mnistfc/prop_0_0.03.vnnlib\")\n",
    "\n",
    "(bounds, matrix, bias, num) = f\n",
    "\n",
    "print(typeof(f))\n",
    "for (bounds, matrix, bias, num) in f\n",
    "    println(bias)\n",
    "end"
   ]
  },
  {
   "cell_type": "code",
   "execution_count": 3,
   "metadata": {},
   "outputs": [
    {
     "data": {
      "text/plain": [
       "2×2 Matrix{Int64}:\n",
       " 3  3\n",
       " 3  3"
      ]
     },
     "metadata": {},
     "output_type": "display_data"
    }
   ],
   "source": [
    "a = [1 1; 1 1]\n",
    "b = [1 1; 1 1]\n",
    "c = a * b + a"
   ]
  },
  {
   "cell_type": "code",
   "execution_count": 3,
   "metadata": {},
   "outputs": [
    {
     "name": "stdout",
     "output_type": "stream",
     "text": [
      "dog\n",
      "cat\n",
      "mouse\n"
     ]
    }
   ],
   "source": [
    "for animal = [\"dog\", \"cat\", \"mouse\"]\n",
    "    println(\"$animal\")\n",
    "end"
   ]
  },
  {
   "cell_type": "code",
   "execution_count": 12,
   "metadata": {},
   "outputs": [
    {
     "name": "stdout",
     "output_type": "stream",
     "text": [
      "x is 5 and y is 6\n"
     ]
    },
    {
     "data": {
      "text/plain": [
       "11"
      ]
     },
     "metadata": {},
     "output_type": "display_data"
    }
   ],
   "source": [
    "function add(x, y)\n",
    "    println(\"x is $x and y is $y\")\n",
    "\n",
    "    # Functions return the value of their last statement\n",
    "    x + y\n",
    "end\n",
    "\n",
    "add(5, 6)"
   ]
  },
  {
   "cell_type": "code",
   "execution_count": 13,
   "metadata": {},
   "outputs": [
    {
     "data": {
      "text/plain": [
       "\"2 3 and 5 6\""
      ]
     },
     "metadata": {},
     "output_type": "display_data"
    }
   ],
   "source": [
    "# You can define functions with optional positional arguments\n",
    "function defaults(a, b, x=5, y=6)\n",
    "    return \"$a $b and $x $y\"\n",
    "end\n",
    "\n",
    "defaults(2, 3)"
   ]
  },
  {
   "cell_type": "code",
   "execution_count": 6,
   "metadata": {},
   "outputs": [
    {
     "data": {
      "text/plain": [
       "1.2246467991473532e-16"
      ]
     },
     "metadata": {},
     "output_type": "display_data"
    }
   ],
   "source": [
    "using PyCall\n",
    "\n",
    "py\"\"\"\n",
    "import numpy as np\n",
    "\n",
    "def sinpi(x):\n",
    "    return np.sin(np.pi * x)\n",
    "\"\"\"\n",
    "py\"sinpi\"(1)"
   ]
  }
 ],
 "metadata": {
  "kernelspec": {
   "display_name": "Julia 1.9.1",
   "language": "julia",
   "name": "julia-1.9"
  },
  "language_info": {
   "file_extension": ".jl",
   "mimetype": "application/julia",
   "name": "julia",
   "version": "1.9.1"
  },
  "orig_nbformat": 4
 },
 "nbformat": 4,
 "nbformat_minor": 2
}
