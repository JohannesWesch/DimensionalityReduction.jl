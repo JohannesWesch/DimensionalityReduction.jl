{
 "cells": [
  {
   "cell_type": "code",
   "execution_count": 6,
   "metadata": {},
   "outputs": [
    {
     "ename": "KeyError",
     "evalue": "KeyError: key \"11\" not found",
     "output_type": "error",
     "traceback": [
      "KeyError: key \"11\" not found\n",
      "\n",
      "Stacktrace:\n",
      " [1] getindex(h::Dict{String, VNNLib.NNLoader.onnx.TensorProto}, key::String)\n",
      "   @ Base .\\dict.jl:484\n",
      " [2] load_network(filename::String)\n",
      "   @ VNNLib.NNLoader C:\\Users\\johan\\.julia\\packages\\VNNLib\\9HoyF\\src\\NNLoader\\Main.jl:172\n",
      " [3] top-level scope\n",
      "   @ c:\\Users\\johan\\DimensionalityReduction.jl\\test\\test.ipynb:3"
     ]
    }
   ],
   "source": [
    "using VNNLib\n",
    "\n",
    "network = load_network(\"../benchmarks/mnistfc/mnist-net_256x4.onnx\")"
   ]
  },
  {
   "cell_type": "code",
   "execution_count": 11,
   "metadata": {},
   "outputs": [],
   "source": [
    "using VNNLib\n",
    "\n",
    "f, n_input, n_output = get_ast(\"../benchmarks/mnistfc/prop_0_0.03.vnnlib\")\n",
    "\n",
    "for bounds in f\n",
    "    bounds\n",
    "end"
   ]
  },
  {
   "cell_type": "code",
   "execution_count": 9,
   "metadata": {},
   "outputs": [
    {
     "name": "stderr",
     "output_type": "stream",
     "text": [
      "WARNING: replacing module DimensionalityReduction.\n"
     ]
    },
    {
     "ename": "LoadError",
     "evalue": "LoadError: SystemError: opening file \"src/NetworkUpdate.py\": No such file or directory\nin expression starting at c:\\Users\\johan\\DimensionalityReduction.jl\\src\\DimensionalityReduction.jl:1",
     "output_type": "error",
     "traceback": [
      "LoadError: SystemError: opening file \"src/NetworkUpdate.py\": No such file or directory\n",
      "in expression starting at c:\\Users\\johan\\DimensionalityReduction.jl\\src\\DimensionalityReduction.jl:1\n",
      "\n",
      "Stacktrace:\n",
      " [1] systemerror(p::String, errno::Int32; extrainfo::Nothing)\n",
      "   @ Base .\\error.jl:176\n",
      " [2] #systemerror#82\n",
      "   @ .\\error.jl:175 [inlined]\n",
      " [3] systemerror\n",
      "   @ .\\error.jl:175 [inlined]\n",
      " [4] open(fname::String; lock::Bool, read::Nothing, write::Nothing, create::Nothing, truncate::Nothing, append::Nothing)\n",
      "   @ Base .\\iostream.jl:293\n",
      " [5] open\n",
      "   @ .\\iostream.jl:275 [inlined]\n",
      " [6] open(f::Base.var\"#418#419\"{String}, args::String; kwargs::Base.Pairs{Symbol, Union{}, Tuple{}, NamedTuple{(), Tuple{}}})\n",
      "   @ Base .\\io.jl:393\n",
      " [7] open\n",
      "   @ .\\io.jl:392 [inlined]\n",
      " [8] read(filename::String, #unused#::Type{String})\n",
      "   @ Base .\\io.jl:473\n",
      " [9] top-level scope\n",
      "   @ C:\\Users\\johan\\.julia\\packages\\PyCall\\twYvK\\src\\pyeval.jl:252"
     ]
    }
   ],
   "source": [
    "include(\"../src/DimensionalityReduction.jl\")\n",
    "\n",
    "reduce(\"benchmarks/mnistfc/mnist-net_256x4.onnx\", \"benchmarks/mnistfc_reduced/mnist-net_256x4.onnx\")\n"
   ]
  },
  {
   "cell_type": "code",
   "execution_count": 3,
   "metadata": {},
   "outputs": [
    {
     "data": {
      "text/plain": [
       "2×2 Matrix{Int64}:\n",
       " 3  3\n",
       " 3  3"
      ]
     },
     "metadata": {},
     "output_type": "display_data"
    }
   ],
   "source": [
    "a = [1 1; 1 1]\n",
    "b = [1 1; 1 1]\n",
    "c = a * b + a"
   ]
  },
  {
   "cell_type": "code",
   "execution_count": 3,
   "metadata": {},
   "outputs": [
    {
     "name": "stdout",
     "output_type": "stream",
     "text": [
      "dog\n",
      "cat\n",
      "mouse\n"
     ]
    }
   ],
   "source": [
    "for animal = [\"dog\", \"cat\", \"mouse\"]\n",
    "    println(\"$animal\")\n",
    "end"
   ]
  },
  {
   "cell_type": "code",
   "execution_count": 12,
   "metadata": {},
   "outputs": [
    {
     "name": "stdout",
     "output_type": "stream",
     "text": [
      "x is 5 and y is 6\n"
     ]
    },
    {
     "data": {
      "text/plain": [
       "11"
      ]
     },
     "metadata": {},
     "output_type": "display_data"
    }
   ],
   "source": [
    "function add(x, y)\n",
    "    println(\"x is $x and y is $y\")\n",
    "\n",
    "    # Functions return the value of their last statement\n",
    "    x + y\n",
    "end\n",
    "\n",
    "add(5, 6)"
   ]
  },
  {
   "cell_type": "code",
   "execution_count": 13,
   "metadata": {},
   "outputs": [
    {
     "data": {
      "text/plain": [
       "\"2 3 and 5 6\""
      ]
     },
     "metadata": {},
     "output_type": "display_data"
    }
   ],
   "source": [
    "# You can define functions with optional positional arguments\n",
    "function defaults(a, b, x=5, y=6)\n",
    "    return \"$a $b and $x $y\"\n",
    "end\n",
    "\n",
    "defaults(2, 3)"
   ]
  },
  {
   "cell_type": "code",
   "execution_count": 6,
   "metadata": {},
   "outputs": [
    {
     "data": {
      "text/plain": [
       "1.2246467991473532e-16"
      ]
     },
     "metadata": {},
     "output_type": "display_data"
    }
   ],
   "source": [
    "using PyCall\n",
    "\n",
    "py\"\"\"\n",
    "import numpy as np\n",
    "\n",
    "def sinpi(x):\n",
    "    return np.sin(np.pi * x)\n",
    "\"\"\"\n",
    "py\"sinpi\"(1)"
   ]
  }
 ],
 "metadata": {
  "kernelspec": {
   "display_name": "Julia 1.9.1",
   "language": "julia",
   "name": "julia-1.9"
  },
  "language_info": {
   "file_extension": ".jl",
   "mimetype": "application/julia",
   "name": "julia",
   "version": "1.9.1"
  },
  "orig_nbformat": 4
 },
 "nbformat": 4,
 "nbformat_minor": 2
}
