{
 "cells": [
  {
   "cell_type": "code",
   "execution_count": 1,
   "metadata": {},
   "outputs": [
    {
     "ename": "SystemError",
     "evalue": "SystemError: opening file \"benchmarks/mnistfc/prop_0_0.03.vnnlib\": No such file or directory",
     "output_type": "error",
     "traceback": [
      "SystemError: opening file \"benchmarks/mnistfc/prop_0_0.03.vnnlib\": No such file or directory\n",
      "\n",
      "Stacktrace:\n",
      "  [1] systemerror(p::String, errno::Int32; extrainfo::Nothing)\n",
      "    @ Base .\\error.jl:176\n",
      "  [2] #systemerror#82\n",
      "    @ .\\error.jl:175 [inlined]\n",
      "  [3] systemerror\n",
      "    @ .\\error.jl:175 [inlined]\n",
      "  [4] open(fname::String; lock::Bool, read::Bool, write::Nothing, create::Nothing, truncate::Nothing, append::Nothing)\n",
      "    @ Base .\\iostream.jl:293\n",
      "  [5] open\n",
      "    @ .\\iostream.jl:275 [inlined]\n",
      "  [6] open(fname::String, mode::String; lock::Bool)\n",
      "    @ Base .\\iostream.jl:356\n",
      "  [7] open(fname::String, mode::String)\n",
      "    @ Base .\\iostream.jl:355\n",
      "  [8] open(::VNNLib.Parser.var\"#1#2\", ::String, ::Vararg{String}; kwargs::Base.Pairs{Symbol, Union{}, Tuple{}, NamedTuple{(), Tuple{}}})\n",
      "    @ Base .\\io.jl:393\n",
      "  [9] open\n",
      "    @ .\\io.jl:392 [inlined]\n",
      " [10] parse_file\n",
      "    @ C:\\Users\\johan\\.julia\\packages\\VNNLib\\9HoyF\\src\\Parser\\Parser.jl:3 [inlined]\n",
      " [11] get_ast\n",
      "    @ C:\\Users\\johan\\.julia\\packages\\VNNLib\\9HoyF\\src\\VNNLib.jl:43 [inlined]\n",
      " [12] get_ast(filename::String)\n",
      "    @ VNNLib C:\\Users\\johan\\.julia\\packages\\VNNLib\\9HoyF\\src\\VNNLib.jl:43\n",
      " [13] top-level scope\n",
      "    @ c:\\Users\\johan\\DimensionalityReduction.jl\\test\\test.ipynb:3"
     ]
    }
   ],
   "source": [
    "using VNNLib\n",
    "\n",
    "f, n_input, n_output = get_ast(\"benchmarks/mnistfc/prop_0_0.03.vnnlib\")\n",
    "# network = load_network(\"benchmarks/mnistfc/mnist-net_256x4.onnx\")\n",
    "for (bounds, matrix, bias, num) in f\n",
    "    # Process linear constraints\n",
    "    # bounds: variable bounds\n",
    "    # matrix: constraint matrix M\n",
    "    # bias: constraint biases b\n",
    "    # num: Number of rows with input constraints (1..num are input constraints, remaining constraints are mixed/output constraints)\n",
    "    # Overall this encodes Mx <= b\n",
    "end"
   ]
  },
  {
   "cell_type": "code",
   "execution_count": 2,
   "metadata": {},
   "outputs": [
    {
     "ename": "SystemError",
     "evalue": "SystemError: opening file \"benchmarks/mnistfc/prop_0_0.03.vnnlib\": No such file or directory",
     "output_type": "error",
     "traceback": [
      "SystemError: opening file \"benchmarks/mnistfc/prop_0_0.03.vnnlib\": No such file or directory\n",
      "\n",
      "Stacktrace:\n",
      "  [1] systemerror(p::String, errno::Int32; extrainfo::Nothing)\n",
      "    @ Base .\\error.jl:176\n",
      "  [2] #systemerror#82\n",
      "    @ .\\error.jl:175 [inlined]\n",
      "  [3] systemerror\n",
      "    @ .\\error.jl:175 [inlined]\n",
      "  [4] open(fname::String; lock::Bool, read::Bool, write::Nothing, create::Nothing, truncate::Nothing, append::Nothing)\n",
      "    @ Base .\\iostream.jl:293\n",
      "  [5] open\n",
      "    @ .\\iostream.jl:275 [inlined]\n",
      "  [6] open(fname::String, mode::String; lock::Bool)\n",
      "    @ Base .\\iostream.jl:356\n",
      "  [7] open(fname::String, mode::String)\n",
      "    @ Base .\\iostream.jl:355\n",
      "  [8] open(::VNNLib.Parser.var\"#1#2\", ::String, ::Vararg{String}; kwargs::Base.Pairs{Symbol, Union{}, Tuple{}, NamedTuple{(), Tuple{}}})\n",
      "    @ Base .\\io.jl:393\n",
      "  [9] open\n",
      "    @ .\\io.jl:392 [inlined]\n",
      " [10] parse_file\n",
      "    @ C:\\Users\\johan\\.julia\\packages\\VNNLib\\9HoyF\\src\\Parser\\Parser.jl:3 [inlined]\n",
      " [11] get_ast\n",
      "    @ C:\\Users\\johan\\.julia\\packages\\VNNLib\\9HoyF\\src\\VNNLib.jl:43 [inlined]\n",
      " [12] get_ast(filename::String)\n",
      "    @ VNNLib C:\\Users\\johan\\.julia\\packages\\VNNLib\\9HoyF\\src\\VNNLib.jl:43\n",
      " [13] top-level scope\n",
      "    @ c:\\Users\\johan\\DimensionalityReduction.jl\\test\\test.ipynb:3"
     ]
    }
   ],
   "source": [
    "using VNNLib\n",
    "\n",
    "f, n_input, n_output = get_ast(\"benchmarks/mnistfc/prop_0_0.03.vnnlib\")\n",
    "# network = load_network(\"benchmarks/mnistfc/mnist-net_256x4.onnx\")"
   ]
  }
 ],
 "metadata": {
  "kernelspec": {
   "display_name": "Julia 1.9.0",
   "language": "julia",
   "name": "julia-1.9"
  },
  "language_info": {
   "file_extension": ".jl",
   "mimetype": "application/julia",
   "name": "julia",
   "version": "1.9.0"
  },
  "orig_nbformat": 4
 },
 "nbformat": 4,
 "nbformat_minor": 2
}
