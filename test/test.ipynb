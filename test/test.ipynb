{
 "cells": [
  {
   "cell_type": "code",
   "execution_count": 1,
   "metadata": {},
   "outputs": [
    {
     "ename": "KeyError",
     "evalue": "KeyError: key \"11\" not found",
     "output_type": "error",
     "traceback": [
      "KeyError: key \"11\" not found\n",
      "\n",
      "Stacktrace:\n",
      " [1] getindex(h::Dict{String, VNNLib.NNLoader.onnx.TensorProto}, key::String)\n",
      "   @ Base .\\dict.jl:484\n",
      " [2] load_network(filename::String)\n",
      "   @ VNNLib.NNLoader C:\\Users\\johan\\.julia\\packages\\VNNLib\\9HoyF\\src\\NNLoader\\Main.jl:172\n",
      " [3] top-level scope\n",
      "   @ c:\\Users\\johan\\DimensionalityReduction.jl\\test\\test.ipynb:3"
     ]
    }
   ],
   "source": [
    "using VNNLib\n",
    "\n",
    "network = load_network(\"../benchmarks/mnistfc/mnist-net_256x4.onnx\")"
   ]
  },
  {
   "cell_type": "code",
   "execution_count": 8,
   "metadata": {},
   "outputs": [
    {
     "name": "stdout",
     "output_type": "stream",
     "text": [
      "[0.0 0.029999999329447746; 0.0 0.029999999329447746; 0.0 0.029999999329447746; 0.0 0.029999999329447746; 0.0 0.029999999329447746; 0.0 0.029999999329447746; 0.0 0.029999999329447746; 0.0 0.029999999329447746; 0.0 0.029999999329447746; 0.0 0.029999999329447746; 0.0 0.029999999329447746; 0.0 0.029999999329447746; 0.0 0.029999999329447746; 0.0 0.029999999329447746; 0.0 0.029999999329447746; 0.0 0.029999999329447746; -Inf Inf; -Inf Inf; -Inf Inf; -Inf Inf; -Inf Inf; -Inf Inf; -Inf Inf; -Inf Inf; -Inf Inf]\n",
      "[0.0 0.029999999329447746; 0.0 0.029999999329447746; 0.0 0.029999999329447746; 0.0 0.029999999329447746; 0.0 0.029999999329447746; 0.0 0.029999999329447746; 0.0 0.029999999329447746; 0.0 0.029999999329447746; 0.0 0.029999999329447746; 0.0 0.029999999329447746; 0.0 0.029999999329447746; 0.0 0.029999999329447746; 0.0 0.029999999329447746; 0.0 0.029999999329447746; 0.0 0.029999999329447746; 0.0 0.029999999329447746; -Inf Inf; -Inf Inf; -Inf Inf; -Inf Inf; -Inf Inf; -Inf Inf; -Inf Inf; -Inf Inf; -Inf Inf]\n",
      "[0.0 0.029999999329447746; 0.0 0.029999999329447746; 0.0 0.029999999329447746; 0.0 0.029999999329447746; 0.0 0.029999999329447746; 0.0 0.029999999329447746; 0.0 0.029999999329447746; 0.0 0.029999999329447746; 0.0 0.029999999329447746; 0.0 0.029999999329447746; 0.0 0.029999999329447746; 0.0 0.029999999329447746; 0.0 0.029999999329447746; 0.0 0.029999999329447746; 0.0 0.029999999329447746; 0.0 0.029999999329447746; -Inf Inf; -Inf Inf; -Inf Inf; -Inf Inf; -Inf Inf; -Inf Inf; -Inf Inf; -Inf Inf; -Inf Inf]\n",
      "[0.0 0.029999999329447746; 0.0 0.029999999329447746; 0.0 0.029999999329447746; 0.0 0.029999999329447746; 0.0 0.029999999329447746; 0.0 0.029999999329447746; 0.0 0.029999999329447746; 0.0 0.029999999329447746; 0.0 0.029999999329447746; 0.0 0.029999999329447746; 0.0 0.029999999329447746; 0.0 0.029999999329447746; 0.0 0.029999999329447746; 0.0 0.029999999329447746; 0.0 0.029999999329447746; 0.0 0.029999999329447746; -Inf Inf; -Inf Inf; -Inf Inf; -Inf Inf; -Inf Inf; -Inf Inf; -Inf Inf; -Inf Inf; -Inf Inf]\n",
      "[0.0 0.029999999329447746; 0.0 0.029999999329447746; 0.0 0.029999999329447746; 0.0 0.029999999329447746; 0.0 0.029999999329447746; 0.0 0.029999999329447746; 0.0 0.029999999329447746; 0.0 0.029999999329447746; 0.0 0.029999999329447746; 0.0 0.029999999329447746; 0.0 0.029999999329447746; 0.0 0.029999999329447746; 0.0 0.029999999329447746; 0.0 0.029999999329447746; 0.0 0.029999999329447746; 0.0 0.029999999329447746; -Inf Inf; -Inf Inf; -Inf Inf; -Inf Inf; -Inf Inf; -Inf Inf; -Inf Inf; -Inf Inf; -Inf Inf]\n",
      "[0.0 0.029999999329447746; 0.0 0.029999999329447746; 0.0 0.029999999329447746; 0.0 0.029999999329447746; 0.0 0.029999999329447746; 0.0 0.029999999329447746; 0.0 0.029999999329447746; 0.0 0.029999999329447746; 0.0 0.029999999329447746; 0.0 0.029999999329447746; 0.0 0.029999999329447746; 0.0 0.029999999329447746; 0.0 0.029999999329447746; 0.0 0.029999999329447746; 0.0 0.029999999329447746; 0.0 0.029999999329447746; -Inf Inf; -Inf Inf; -Inf Inf; -Inf Inf; -Inf Inf; -Inf Inf; -Inf Inf; -Inf Inf; -Inf Inf]\n",
      "[0.0 0.029999999329447746; 0.0 0.029999999329447746; 0.0 0.029999999329447746; 0.0 0.029999999329447746; 0.0 0.029999999329447746; 0.0 0.029999999329447746; 0.0 0.029999999329447746; 0.0 0.029999999329447746; 0.0 0.029999999329447746; 0.0 0.029999999329447746; 0.0 0.029999999329447746; 0.0 0.029999999329447746; 0.0 0.029999999329447746; 0.0 0.029999999329447746; 0.0 0.029999999329447746; 0.0 0.029999999329447746; -Inf Inf; -Inf Inf; -Inf Inf; -Inf Inf; -Inf Inf; -Inf Inf; -Inf Inf; -Inf Inf; -Inf Inf]\n",
      "[0.0 0.029999999329447746; 0.0 0.029999999329447746; 0.0 0.029999999329447746; 0.0 0.029999999329447746; 0.0 0.029999999329447746; 0.0 0.029999999329447746; 0.0 0.029999999329447746; 0.0 0.029999999329447746; 0.0 0.029999999329447746; 0.0 0.029999999329447746; 0.0 0.029999999329447746; 0.0 0.029999999329447746; 0.0 0.029999999329447746; 0.0 0.029999999329447746; 0.0 0.029999999329447746; 0.0 0.029999999329447746; -Inf Inf; -Inf Inf; -Inf Inf; -Inf Inf; -Inf Inf; -Inf Inf; -Inf Inf; -Inf Inf; -Inf Inf]\n",
      "[0.0 0.029999999329447746; 0.0 0.029999999329447746; 0.0 0.029999999329447746; 0.0 0.029999999329447746; 0.0 0.029999999329447746; 0.0 0.029999999329447746; 0.0 0.029999999329447746; 0.0 0.029999999329447746; 0.0 0.029999999329447746; 0.0 0.029999999329447746; 0.0 0.029999999329447746; 0.0 0.029999999329447746; 0.0 0.029999999329447746; 0.0 0.029999999329447746; 0.0 0.029999999329447746; 0.0 0.029999999329447746; -Inf Inf; -Inf Inf; -Inf Inf; -Inf Inf; -Inf Inf; -Inf Inf; -Inf Inf; -Inf Inf; -Inf Inf; -Inf Inf]\n"
     ]
    }
   ],
   "source": [
    "using VNNLib\n",
    "\n",
    "f, n_input, n_output = get_ast(\"../benchmarks/mnistfc_reduced/test.vnnlib\")\n",
    "\n",
    "(bounds, matrix, bias, num) = f\n",
    "\n",
    "for (bounds, matrix, bias, num) in f\n",
    "    println(bounds)\n",
    "end"
   ]
  },
  {
   "cell_type": "code",
   "execution_count": null,
   "metadata": {},
   "outputs": [],
   "source": []
  },
  {
   "cell_type": "code",
   "execution_count": null,
   "metadata": {},
   "outputs": [],
   "source": [
    "a = [1 1; 1 1]\n",
    "b = [1 1; 1 1]\n",
    "c = a * b + a"
   ]
  },
  {
   "cell_type": "code",
   "execution_count": null,
   "metadata": {},
   "outputs": [],
   "source": [
    "for animal = [\"dog\", \"cat\", \"mouse\"]\n",
    "    println(\"$animal\")\n",
    "end"
   ]
  },
  {
   "cell_type": "code",
   "execution_count": null,
   "metadata": {},
   "outputs": [],
   "source": [
    "function add(x, y)\n",
    "    println(\"x is $x and y is $y\")\n",
    "\n",
    "    # Functions return the value of their last statement\n",
    "    x + y\n",
    "end\n",
    "\n",
    "add(5, 6)"
   ]
  },
  {
   "cell_type": "code",
   "execution_count": null,
   "metadata": {},
   "outputs": [],
   "source": [
    "# You can define functions with optional positional arguments\n",
    "function defaults(a, b, x=5, y=6)\n",
    "    return \"$a $b and $x $y\"\n",
    "end\n",
    "\n",
    "defaults(2, 3)"
   ]
  },
  {
   "cell_type": "code",
   "execution_count": null,
   "metadata": {},
   "outputs": [],
   "source": [
    "using PyCall\n",
    "\n",
    "py\"\"\"\n",
    "import numpy as np\n",
    "\n",
    "def sinpi(x):\n",
    "    return np.sin(np.pi * x)\n",
    "\"\"\"\n",
    "py\"sinpi\"(1)"
   ]
  },
  {
   "cell_type": "code",
   "execution_count": null,
   "metadata": {},
   "outputs": [],
   "source": [
    "using VNNLib\n",
    "\n",
    "f, n_input, n_output = get_ast(\"../benchmarks/mnistfc_reduced/test.vnnlib\")\n",
    "\n",
    "print(\"Number of inputs: \", n_input, \"\\n\")\n",
    "print(\"Number of outputs: \", n_output, \"\\n\")\n",
    "\n",
    "for (bounds, matrix, bias, num) in f\n",
    "    print(\"Bounds of inputs: \", bounds, \"\\n\")\n",
    "    print(\"Lower bound of first input: \", bounds[1,1], \"\\n\")\n",
    "    print(\"Upper bound of first input: \", bounds[1,2], \"\\n\")\n",
    "    print(\"Lower bound of second input: \", bounds[2,1], \"\\n\")\n",
    "    print(\"Upper bound of second input: \", bounds[2,2], \"\\n\")\n",
    "    # All lower bounds:\n",
    "    lower = bounds[1:end, 1]\n",
    "    # All upper bounds:\n",
    "    upper = bounds[1:end, 2]\n",
    "    print(\"Lower bounds of all inputs: \", lower, \"\\n\")\n",
    "end"
   ]
  },
  {
   "cell_type": "code",
   "execution_count": null,
   "metadata": {},
   "outputs": [],
   "source": [
    "using VNNLib\n",
    "\n",
    "f, n_input, n_output = get_ast(\"../benchmarks/mnistfc_reduced/test.vnnlib\")\n",
    "\n",
    "print(\"Number of inputs: \", n_input, \"\\n\")\n",
    "print(\"Number of outputs: \", n_output, \"\\n\")\n",
    "\n",
    "global b = []\n",
    "\n",
    "for (bounds, matrix, bias, num) in f\n",
    "    b = bounds[1:n_input, 1:2]\n",
    "    break\n",
    "end\n",
    "\n",
    "print(\"Bounds of inputs: \", b, \"\\n\")"
   ]
  }
 ],
 "metadata": {
  "kernelspec": {
   "display_name": "Julia 1.9.1",
   "language": "julia",
   "name": "julia-1.9"
  },
  "language_info": {
   "file_extension": ".jl",
   "mimetype": "application/julia",
   "name": "julia",
   "version": "1.9.1"
  },
  "orig_nbformat": 4
 },
 "nbformat": 4,
 "nbformat_minor": 2
}
