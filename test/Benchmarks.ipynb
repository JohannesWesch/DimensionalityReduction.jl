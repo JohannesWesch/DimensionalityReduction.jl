{
 "cells": [
  {
   "cell_type": "code",
   "execution_count": 16,
   "metadata": {},
   "outputs": [
    {
     "name": "stderr",
     "output_type": "stream",
     "text": [
      "WARNING: replacing module DimensionalityReduction.\n",
      "WARNING: ignoring conflicting import of DimensionalityReduction.reduce into Main\n"
     ]
    },
    {
     "ename": "SystemError",
     "evalue": "SystemError: GetTempFileName: Der Verzeichnisname ist ungültig. ",
     "output_type": "error",
     "traceback": [
      "SystemError: GetTempFileName: Der Verzeichnisname ist ungültig. \n",
      "\n",
      "Stacktrace:\n",
      " [1] windowserror(p::String, code::UInt32; extrainfo::Nothing)\n",
      "   @ Base .\\error.jl:191\n",
      " [2] #windowserror#84\n",
      "   @ .\\error.jl:190 [inlined]\n",
      " [3] windowserror\n",
      "   @ .\\error.jl:190 [inlined]\n",
      " [4] _win_mkstemp(temppath::String)\n",
      "   @ Base.Filesystem .\\file.jl:600\n",
      " [5] #mktemp#21\n",
      "   @ .\\file.jl:608 [inlined]\n",
      " [6] mktemp\n",
      "   @ .\\file.jl:607 [inlined]\n",
      " [7] get_box_constraints\n",
      "   @ c:\\Users\\johan\\DimensionalityReduction.jl\\src\\Constraints.jl:6 [inlined]\n",
      " [8] reduce(onnx_input::String, vnnlib_input::String, output::String; reduce::Bool, method::Int64, d_to_reduce::Int64, vnnlib::Bool, nnenum::Bool, factorization::Int64, dorefinement::Bool)\n",
      "   @ Main.DimensionalityReduction c:\\Users\\johan\\DimensionalityReduction.jl\\src\\DimensionalityReduction.jl:57\n",
      " [9] top-level scope\n",
      "   @ c:\\Users\\johan\\DimensionalityReduction.jl\\test\\Benchmarks.ipynb:4"
     ]
    }
   ],
   "source": [
    "include(\"../src/DimensionalityReduction.jl\")\n",
    "import .DimensionalityReduction: reduce\n",
    "\n",
    "reduce(\"../benchmarks/digits/digit-net_64x4.onnx\", \n",
    "\"../benchmarks/digits/dim64/prop_0_0.20.vnnlib\",\n",
    "\"benchmarks/digits_reduced\", method=2, d_to_reduce=4, nnenum=true)"
   ]
  }
 ],
 "metadata": {
  "kernelspec": {
   "display_name": "Julia 1.9.1",
   "language": "julia",
   "name": "julia-1.9"
  },
  "language_info": {
   "file_extension": ".jl",
   "mimetype": "application/julia",
   "name": "julia",
   "version": "1.9.1"
  },
  "orig_nbformat": 4
 },
 "nbformat": 4,
 "nbformat_minor": 2
}
